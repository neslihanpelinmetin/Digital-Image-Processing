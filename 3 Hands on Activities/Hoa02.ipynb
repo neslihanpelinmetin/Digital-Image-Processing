{
  "nbformat": 4,
  "nbformat_minor": 0,
  "metadata": {
    "colab": {
      "provenance": []
    },
    "kernelspec": {
      "name": "python3",
      "display_name": "Python 3"
    },
    "language_info": {
      "name": "python"
    }
  },
  "cells": [
    {
      "cell_type": "code",
      "execution_count": 7,
      "metadata": {
        "colab": {
          "base_uri": "https://localhost:8080/"
        },
        "id": "JUsuS0bEgR_8",
        "outputId": "2a464c8f-ef93-425b-d34f-91bd00eed8b0"
      },
      "outputs": [
        {
          "output_type": "stream",
          "name": "stdout",
          "text": [
            "--2023-03-21 14:40:13--  https://upload.wikimedia.org/wikipedia/commons/b/b8/Classic_Rainbow_Flag.png\n",
            "Resolving upload.wikimedia.org (upload.wikimedia.org)... 198.35.26.112, 2620:0:863:ed1a::2:b\n",
            "Connecting to upload.wikimedia.org (upload.wikimedia.org)|198.35.26.112|:443... connected.\n",
            "HTTP request sent, awaiting response... 200 OK\n",
            "Length: 3483 (3.4K) [image/png]\n",
            "Saving to: ‘Classic_Rainbow_Flag.png’\n",
            "\n",
            "\rClassic_Rainbow_Fla   0%[                    ]       0  --.-KB/s               \rClassic_Rainbow_Fla 100%[===================>]   3.40K  --.-KB/s    in 0s      \n",
            "\n",
            "2023-03-21 14:40:13 (365 MB/s) - ‘Classic_Rainbow_Flag.png’ saved [3483/3483]\n",
            "\n"
          ]
        }
      ],
      "source": [
        "import cv2\n",
        "from matplotlib import pyplot as plt\n",
        "\n",
        "!wget \"https://upload.wikimedia.org/wikipedia/commons/b/b8/Classic_Rainbow_Flag.png\""
      ]
    },
    {
      "cell_type": "code",
      "source": [
        "BGR_img = cv2.imread('Classic_Rainbow_Flag.png')\n",
        "print(BGR_img.shape)\n",
        "\n",
        "RGB_img = cv2.cvtColor(BGR_img, cv2.COLOR_BGR2RGB)\n",
        "\n",
        "plt.imshow(RGB_img)\n",
        "plt.show()"
      ],
      "metadata": {
        "colab": {
          "base_uri": "https://localhost:8080/",
          "height": 205
        },
        "id": "ITQGxp9piUyt",
        "outputId": "d0429f90-e603-43dd-eb84-48bc12871ed4"
      },
      "execution_count": 8,
      "outputs": [
        {
          "output_type": "stream",
          "name": "stdout",
          "text": [
            "(553, 1355, 3)\n"
          ]
        },
        {
          "output_type": "display_data",
          "data": {
            "text/plain": [
              "<Figure size 432x288 with 1 Axes>"
            ],
            "image/png": "[encoded data removed]"
          },
          "metadata": {
            "needs_background": "light"
          }
        }
      ]
    },
    {
      "cell_type": "code",
      "source": [
        "#R, G and B channels \n",
        "# Make a wider figure so we can fit in subplots\n",
        "plt.figure(figsize=(12, 4))\n",
        "\n",
        "# Show each of the three channels\n",
        "for ii in range(3):\n",
        "    \n",
        "    # Subplot indices start at 1\n",
        "    plt.subplot(1, 3, ii+1)\n",
        "    \n",
        "    # Array indices start at 0\n",
        "    im_channel = RGB_img[..., ii]\n",
        "    plt.imshow(im_channel, cmap='gray')\n",
        "    if ii == 0:\n",
        "      plt.title(f'Channel R')\n",
        "    elif ii == 1:\n",
        "      plt.title(f'Channel G')\n",
        "    else:\n",
        "      plt.title(f'Channel B')  \n",
        "    plt.axis(True)\n",
        "\n",
        "plt.show()"
      ],
      "metadata": {
        "colab": {
          "base_uri": "https://localhost:8080/",
          "height": 144
        },
        "id": "fONImA5-l1nx",
        "outputId": "f76c2e3b-dc58-4e76-8ac2-cc9d3601908c"
      },
      "execution_count": 12,
      "outputs": [
        {
          "output_type": "display_data",
          "data": {
            "text/plain": [
              "<Figure size 864x288 with 3 Axes>"
            ],
            "image/png": "[encoded data removed]"
          },
          "metadata": {
            "needs_background": "light"
          }
        }
      ]
    },
    {
      "cell_type": "code",
      "source": [
        "hsv_img = cv2.cvtColor(BGR_img, cv2.COLOR_BGR2HSV)\n",
        "\n",
        "print(\"RGB version of the image\")\n",
        "plt.imshow(RGB_img)\n",
        "plt.show()\n",
        "\n",
        "print(\"HSV version of the image\")\n",
        "plt.imshow(hsv_img)\n",
        "plt.show()"
      ],
      "metadata": {
        "colab": {
          "base_uri": "https://localhost:8080/",
          "height": 393
        },
        "id": "GZZvkxcbpOIw",
        "outputId": "5b13b64a-8975-49f3-b1d3-5d64b0ee4317"
      },
      "execution_count": 19,
      "outputs": [
        {
          "output_type": "stream",
          "name": "stdout",
          "text": [
            "RGB version of the image\n"
          ]
        },
        {
          "output_type": "display_data",
          "data": {
            "text/plain": [
              "<Figure size 432x288 with 1 Axes>"
            ],
            "image/png": "[encoded data removed]"
          },
          "metadata": {
            "needs_background": "light"
          }
        },
        {
          "output_type": "stream",
          "name": "stdout",
          "text": [
            "HSV version of the image\n"
          ]
        },
        {
          "output_type": "display_data",
          "data": {
            "text/plain": [
              "<Figure size 432x288 with 1 Axes>"
            ],
            "image/png": "[encoded data removed]"
          },
          "metadata": {
            "needs_background": "light"
          }
        }
      ]
    },
    {
      "cell_type": "code",
      "source": [
        "# Make a wider figure so we can fit in subplots\n",
        "plt.figure(figsize=(12, 4))\n",
        "\n",
        "# Show each of the three channels\n",
        "for ii in range(3):\n",
        "    \n",
        "    # Subplot indices start at 1\n",
        "    plt.subplot(1, 3, ii+1)\n",
        "    \n",
        "    # Array indices start at 0\n",
        "    im_channel = hsv_img[..., ii]\n",
        "    plt.imshow(im_channel, cmap='gray')\n",
        "    if ii == 0:\n",
        "      plt.title(f'Channel H')\n",
        "    elif ii == 1:\n",
        "      plt.title(f'Channel S')\n",
        "    else:\n",
        "      plt.title(f'Channel V')  \n",
        "    plt.axis(True)\n",
        "\n",
        "plt.show()"
      ],
      "metadata": {
        "colab": {
          "base_uri": "https://localhost:8080/",
          "height": 144
        },
        "id": "Kr4Oi2wcpwW9",
        "outputId": "bf4293a2-e375-4d88-b12a-5844debe5f5d"
      },
      "execution_count": 15,
      "outputs": [
        {
          "output_type": "display_data",
          "data": {
            "text/plain": [
              "<Figure size 864x288 with 3 Axes>"
            ],
            "image/png": "[encoded data removed]"
          },
          "metadata": {
            "needs_background": "light"
          }
        }
      ]
    },
    {
      "cell_type": "code",
      "source": [
        "Lab_img = cv2.cvtColor(BGR_img, cv2.COLOR_BGR2LAB)\n",
        "\n",
        "print(\"RGB version of the image\")\n",
        "plt.imshow(RGB_img)\n",
        "plt.show()\n",
        "\n",
        "print(\"Lab version of the image\")\n",
        "plt.imshow(Lab_img)\n",
        "plt.show()"
      ],
      "metadata": {
        "colab": {
          "base_uri": "https://localhost:8080/",
          "height": 393
        },
        "id": "J-rPBbehp-rI",
        "outputId": "5eb47b6f-e2c0-431e-956c-15f45c8a1ebf"
      },
      "execution_count": 18,
      "outputs": [
        {
          "output_type": "stream",
          "name": "stdout",
          "text": [
            "RGB version of the image\n"
          ]
        },
        {
          "output_type": "display_data",
          "data": {
            "text/plain": [
              "<Figure size 432x288 with 1 Axes>"
            ],
            "image/png": "[encoded data removed]"
          },
          "metadata": {
            "needs_background": "light"
          }
        },
        {
          "output_type": "stream",
          "name": "stdout",
          "text": [
            "Lab version of the image\n"
          ]
        },
        {
          "output_type": "display_data",
          "data": {
            "text/plain": [
              "<Figure size 432x288 with 1 Axes>"
            ],
            "image/png": "[encoded data removed]"
          },
          "metadata": {
            "needs_background": "light"
          }
        }
      ]
    },
    {
      "cell_type": "code",
      "source": [
        "# Make a wider figure so we can fit in subplots\n",
        "plt.figure(figsize=(12, 4))\n",
        "\n",
        "# Show each of the three channels\n",
        "for ii in range(3):\n",
        "    \n",
        "    # Subplot indices start at 1\n",
        "    plt.subplot(1, 3, ii+1)\n",
        "    \n",
        "    # Array indices start at 0\n",
        "    im_channel = Lab_img[..., ii]\n",
        "    plt.imshow(im_channel, cmap='gray')\n",
        "    if ii == 0:\n",
        "      plt.title(f'Channel L')\n",
        "    elif ii == 1:\n",
        "      plt.title(f'Channel A')\n",
        "    else:\n",
        "      plt.title(f'Channel B')  \n",
        "    plt.axis(True)\n",
        "\n",
        "plt.show()"
      ],
      "metadata": {
        "colab": {
          "base_uri": "https://localhost:8080/",
          "height": 144
        },
        "id": "O4gLKv9wqa79",
        "outputId": "6a40785c-17fc-469d-cda9-05912fc858c5"
      },
      "execution_count": 17,
      "outputs": [
        {
          "output_type": "display_data",
          "data": {
            "text/plain": [
              "<Figure size 864x288 with 3 Axes>"
            ],
            "image/png": "[encoded data removed]"
          },
          "metadata": {
            "needs_background": "light"
          }
        }
      ]
    }
  ]
}